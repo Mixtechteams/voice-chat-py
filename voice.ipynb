{
 "cells": [
  {
   "cell_type": "code",
   "execution_count": null,
   "id": "dd45d9bc",
   "metadata": {},
   "outputs": [],
   "source": [
    "# !apt install python3-pip\n",
    "# !pip3 install ffmpeg\n",
    "# !pip3 install vosk\n",
    "# !pip3 install torch\n",
    "# !pip3 install transformers\n",
    "# !pip3 install pyaudio\n",
    "# !pip3 install twisted"
   ]
  },
  {
   "cell_type": "code",
   "execution_count": null,
   "id": "9f7a3d45",
   "metadata": {},
   "outputs": [],
   "source": [
    "# !curl -o ./model_small.zip https://alphacephei.com/vosk/models/vosk-model-small-ru-0.22.zip\n",
    "# !unzip model_small.zip\n",
    "# !mv vosk-model-small-ru-0.22/ model\n",
    "# rm -rf model_small.zip"
   ]
  },
  {
   "cell_type": "code",
   "execution_count": null,
   "id": "86a89353",
   "metadata": {},
   "outputs": [],
   "source": [
    "from vosk import Model, KaldiRecognizer\n",
    "import os\n",
    "import json\n",
    "import pyaudio\n",
    "from twisted.internet.protocol import DatagramProtocol\n",
    "from twisted.internet import reactor\n",
    "import socket"
   ]
  },
  {
   "cell_type": "code",
   "execution_count": null,
   "id": "248570ad",
   "metadata": {},
   "outputs": [],
   "source": [
    "FRAME_RATE = 16000\n",
    "BUFFER = 1024\n",
    "CHANNELS=1\n",
    "multicast_ip = '228.0.0.5'\n",
    "multicast_port = 9999\n",
    "model = Model(\"model\")"
   ]
  },
  {
   "cell_type": "code",
   "execution_count": null,
   "id": "5256814e",
   "metadata": {},
   "outputs": [],
   "source": [
    "def get_ip():\n",
    "    s = socket.socket(socket.AF_INET, socket.SOCK_DGRAM)\n",
    "    s.settimeout(0)\n",
    "    try:\n",
    "        # doesn't even have to be reachable\n",
    "        s.connect(('10.254.254.254', 1))\n",
    "        IP = s.getsockname()[0]\n",
    "    except Exception:\n",
    "        IP = '127.0.0.1'\n",
    "    finally:\n",
    "        s.close()\n",
    "    return IP\n",
    "print(get_ip()) "
   ]
  },
  {
   "cell_type": "code",
   "execution_count": null,
   "id": "a7901a07",
   "metadata": {},
   "outputs": [],
   "source": [
    "results = []\n",
    "class Client(DatagramProtocol):\n",
    "    def startProtocol(self):\n",
    "        py_audio = pyaudio.PyAudio()\n",
    "        self.buffer = BUFFER  \n",
    "        \n",
    "        if MULT==True:\n",
    "            self.another_client = multicast_ip, multicast_port\n",
    "        else:\n",
    "            self.another_client = input(\"Write address: \"), int(input(\"Write port: \"))\n",
    "        \n",
    "        self.rec = KaldiRecognizer(model, FRAME_RATE)\n",
    "        self.rec.SetWords(True)\n",
    "        self.outrec = KaldiRecognizer(model, FRAME_RATE)\n",
    "        self.outrec.SetWords(True)\n",
    "        \n",
    "        # группа для мультикаст передачи, так же остается передача напрямую по ip\n",
    "        self.transport.joinGroup(multicast_ip)\n",
    "\n",
    "        # выдаст ошибку если нет колонок\n",
    "        self.output_stream = py_audio.open(format=pyaudio.paInt16,\n",
    "                                           output=True, rate=FRAME_RATE, channels=CHANNELS,\n",
    "                                           frames_per_buffer=self.buffer)\n",
    "        \n",
    "        # выдаст ошибку если нет микрофона\n",
    "        self.input_stream = py_audio.open(format=pyaudio.paInt16,\n",
    "                                          input=True, rate=FRAME_RATE, channels=CHANNELS,\n",
    "                                          frames_per_buffer=self.buffer)\n",
    "        reactor.callInThread(self.record)\n",
    "\n",
    "    # передача голоса по ип либо всем мультикаст\n",
    "    def record(self):\n",
    "        while True:\n",
    "            data = self.input_stream.read(self.buffer,exception_on_overflow=False)\n",
    "            self.transport.write(data, self.another_client)\n",
    "            \n",
    "            self.outrec.AcceptWaveform(data)\n",
    "            if 'стоп' in self.outrec.PartialResult():\n",
    "                break\n",
    "\n",
    "    # прием голоса, преобразование в текст и логирование, воспроизведение если передача не с этого клиента\n",
    "    def datagramReceived(self, datagram, addr):\n",
    "        if addr[0]!=get_ip():\n",
    "            self.output_stream.write(datagram)\n",
    "            \n",
    "            if self.rec.AcceptWaveform(datagram):\n",
    "                res = self.rec.Result()\n",
    "                print(json.loads(res)['text'],addr)\n",
    "                results.append((json.loads(res)['text'],addr))"
   ]
  },
  {
   "cell_type": "code",
   "execution_count": null,
   "id": "b5c7f804",
   "metadata": {},
   "outputs": [],
   "source": [
    "MULT = True \n",
    "# MULT = False\n",
    "port = multicast_port\n",
    "#228.0.0.5 9999\n",
    "reactor.listenMulticast(multicast_port, Client(), listenMultiple=True)\n",
    "reactor.run()"
   ]
  },
  {
   "cell_type": "code",
   "execution_count": null,
   "id": "92f7b210",
   "metadata": {},
   "outputs": [],
   "source": [
    "results"
   ]
  }
 ],
 "metadata": {
  "kernelspec": {
   "display_name": "Python 3 (ipykernel)",
   "language": "python",
   "name": "python3"
  },
  "language_info": {
   "codemirror_mode": {
    "name": "ipython",
    "version": 3
   },
   "file_extension": ".py",
   "mimetype": "text/x-python",
   "name": "python",
   "nbconvert_exporter": "python",
   "pygments_lexer": "ipython3",
   "version": "3.10.8"
  }
 },
 "nbformat": 4,
 "nbformat_minor": 5
}
